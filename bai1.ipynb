{
 "cells": [
  {
   "cell_type": "code",
   "execution_count": 28,
   "metadata": {},
   "outputs": [
    {
     "data": {
      "text/html": [
       "<div>\n",
       "<style scoped>\n",
       "    .dataframe tbody tr th:only-of-type {\n",
       "        vertical-align: middle;\n",
       "    }\n",
       "\n",
       "    .dataframe tbody tr th {\n",
       "        vertical-align: top;\n",
       "    }\n",
       "\n",
       "    .dataframe thead th {\n",
       "        text-align: right;\n",
       "    }\n",
       "</style>\n",
       "<table border=\"1\" class=\"dataframe\">\n",
       "  <thead>\n",
       "    <tr style=\"text-align: right;\">\n",
       "      <th></th>\n",
       "      <th>InvoiceNo</th>\n",
       "      <th>StockCode</th>\n",
       "      <th>Description</th>\n",
       "      <th>Quantity</th>\n",
       "      <th>InvoiceDate</th>\n",
       "      <th>UnitPrice</th>\n",
       "      <th>CustomerID</th>\n",
       "      <th>Country</th>\n",
       "    </tr>\n",
       "  </thead>\n",
       "  <tbody>\n",
       "    <tr>\n",
       "      <th>0</th>\n",
       "      <td>536365</td>\n",
       "      <td>85123A</td>\n",
       "      <td>WHITE HANGING HEART T-LIGHT HOLDER</td>\n",
       "      <td>6</td>\n",
       "      <td>12/01/2010 8:26</td>\n",
       "      <td>2.55</td>\n",
       "      <td>17850.0</td>\n",
       "      <td>United Kingdom</td>\n",
       "    </tr>\n",
       "    <tr>\n",
       "      <th>1</th>\n",
       "      <td>536365</td>\n",
       "      <td>71053</td>\n",
       "      <td>WHITE METAL LANTERN</td>\n",
       "      <td>6</td>\n",
       "      <td>12/01/2010 8:26</td>\n",
       "      <td>3.39</td>\n",
       "      <td>17850.0</td>\n",
       "      <td>United Kingdom</td>\n",
       "    </tr>\n",
       "    <tr>\n",
       "      <th>2</th>\n",
       "      <td>536365</td>\n",
       "      <td>84406B</td>\n",
       "      <td>CREAM CUPID HEARTS COAT HANGER</td>\n",
       "      <td>8</td>\n",
       "      <td>12/01/2010 8:26</td>\n",
       "      <td>2.75</td>\n",
       "      <td>17850.0</td>\n",
       "      <td>United Kingdom</td>\n",
       "    </tr>\n",
       "    <tr>\n",
       "      <th>3</th>\n",
       "      <td>536365</td>\n",
       "      <td>84029G</td>\n",
       "      <td>KNITTED UNION FLAG HOT WATER BOTTLE</td>\n",
       "      <td>6</td>\n",
       "      <td>12/01/2010 8:26</td>\n",
       "      <td>3.39</td>\n",
       "      <td>17850.0</td>\n",
       "      <td>United Kingdom</td>\n",
       "    </tr>\n",
       "    <tr>\n",
       "      <th>4</th>\n",
       "      <td>536365</td>\n",
       "      <td>84029E</td>\n",
       "      <td>RED WOOLLY HOTTIE WHITE HEART.</td>\n",
       "      <td>6</td>\n",
       "      <td>12/01/2010 8:26</td>\n",
       "      <td>3.39</td>\n",
       "      <td>17850.0</td>\n",
       "      <td>United Kingdom</td>\n",
       "    </tr>\n",
       "  </tbody>\n",
       "</table>\n",
       "</div>"
      ],
      "text/plain": [
       "  InvoiceNo StockCode                          Description  Quantity  \\\n",
       "0    536365    85123A   WHITE HANGING HEART T-LIGHT HOLDER         6   \n",
       "1    536365     71053                  WHITE METAL LANTERN         6   \n",
       "2    536365    84406B       CREAM CUPID HEARTS COAT HANGER         8   \n",
       "3    536365    84029G  KNITTED UNION FLAG HOT WATER BOTTLE         6   \n",
       "4    536365    84029E       RED WOOLLY HOTTIE WHITE HEART.         6   \n",
       "\n",
       "       InvoiceDate  UnitPrice  CustomerID         Country  \n",
       "0  12/01/2010 8:26       2.55     17850.0  United Kingdom  \n",
       "1  12/01/2010 8:26       3.39     17850.0  United Kingdom  \n",
       "2  12/01/2010 8:26       2.75     17850.0  United Kingdom  \n",
       "3  12/01/2010 8:26       3.39     17850.0  United Kingdom  \n",
       "4  12/01/2010 8:26       3.39     17850.0  United Kingdom  "
      ]
     },
     "execution_count": 28,
     "metadata": {},
     "output_type": "execute_result"
    }
   ],
   "source": [
    "# Import thư viện pandas\n",
    "import pandas as pd\n",
    "\n",
    "# Đọc file CSV\n",
    "file_path = \"D:/ki3nam4/KhoaHocDuLieu\\Data1.csv\"  # Đường dẫn đến file của bạn\n",
    "df = pd.read_csv(file_path, sep=\";\",encoding=\"latin1\")\n",
    "\n",
    "# Hiển thị 5 dòng đầu tiên để kiểm tra dữ liệu\n",
    "df.head()"
   ]
  },
  {
   "cell_type": "code",
   "execution_count": 29,
   "metadata": {},
   "outputs": [
    {
     "name": "stdout",
     "output_type": "stream",
     "text": [
      "0   2010-01-12 08:26:00\n",
      "1   2010-01-12 08:26:00\n",
      "2   2010-01-12 08:26:00\n",
      "3   2010-01-12 08:26:00\n",
      "4   2010-01-12 08:26:00\n",
      "5   2010-01-12 08:26:00\n",
      "6   2010-01-12 08:26:00\n",
      "7   2010-01-12 08:28:00\n",
      "8   2010-01-12 08:28:00\n",
      "9   2010-01-12 08:34:00\n",
      "Name: InvoiceDate, dtype: datetime64[ns]\n"
     ]
    }
   ],
   "source": [
    "df['InvoiceDate'] = pd.to_datetime(df['InvoiceDate'], dayfirst=True, errors='coerce')\n",
    "print(df['InvoiceDate'].head(10))  # Xem 10 giá trị đầu tiên\n"
   ]
  },
  {
   "cell_type": "code",
   "execution_count": 30,
   "metadata": {},
   "outputs": [
    {
     "name": "stdout",
     "output_type": "stream",
     "text": [
      " Số dòng dữ liệu ban đầu: 541909\n",
      " Số lượng dòng trước khi lọc giá trị âm: 541909\n"
     ]
    }
   ],
   "source": [
    "# Xử lý dữ liệu thiếu: Xóa các đơn hàng không có mã sản phẩm\n",
    "df = df.dropna(subset=['StockCode'])\n",
    "print(f\" Số dòng dữ liệu ban đầu: {df.shape[0]}\")\n",
    "# Kiểm tra số lượng đơn hàng trước khi lọc\n",
    "print(f\" Số lượng dòng trước khi lọc giá trị âm: {df.shape[0]}\")\n",
    "\n"
   ]
  },
  {
   "cell_type": "code",
   "execution_count": 22,
   "metadata": {},
   "outputs": [
    {
     "name": "stdout",
     "output_type": "stream",
     "text": [
      "\n",
      " Số lượng dòng trước khi lọc giá trị âm: 541909\n",
      " Số lượng dòng sau khi lọc giá trị âm: 530104\n"
     ]
    }
   ],
   "source": [
    "#  Loại bỏ đơn hàng có giá trị âm hoặc số lượng âm\n",
    "print(\"\\n Số lượng dòng trước khi lọc giá trị âm:\", df.shape[0])\n",
    "df = df[(df['Quantity'] > 0) & (df['UnitPrice'] > 0)]\n",
    "print(\" Số lượng dòng sau khi lọc giá trị âm:\", df.shape[0])"
   ]
  },
  {
   "cell_type": "code",
   "execution_count": 31,
   "metadata": {},
   "outputs": [
    {
     "name": "stdout",
     "output_type": "stream",
     "text": [
      "\n",
      " Thêm cột thời gian xong!\n",
      "          InvoiceDate  month  hour  day_of_week\n",
      "0 2010-01-12 08:26:00    1.0   8.0          1.0\n",
      "1 2010-01-12 08:26:00    1.0   8.0          1.0\n",
      "2 2010-01-12 08:26:00    1.0   8.0          1.0\n",
      "3 2010-01-12 08:26:00    1.0   8.0          1.0\n",
      "4 2010-01-12 08:26:00    1.0   8.0          1.0\n"
     ]
    }
   ],
   "source": [
    "#  Thêm cột thông tin thời gian\n",
    "df['month'] = df['InvoiceDate'].dt.month\n",
    "df['hour'] = df['InvoiceDate'].dt.hour\n",
    "df['day_of_week'] = df['InvoiceDate'].dt.dayofweek  # 0 = Monday, 6 = Sunday\n",
    "\n",
    "print(\"\\n Thêm cột thời gian xong!\")\n",
    "print(df[['InvoiceDate', 'month', 'hour', 'day_of_week']].head(5))"
   ]
  },
  {
   "cell_type": "code",
   "execution_count": 32,
   "metadata": {},
   "outputs": [
    {
     "name": "stdout",
     "output_type": "stream",
     "text": [
      "\n",
      "Tính tổng giá trị đơn hàng xong!\n",
      "   Quantity  UnitPrice  TotalPrice\n",
      "0         6       2.55       15.30\n",
      "1         6       3.39       20.34\n",
      "2         8       2.75       22.00\n",
      "3         6       3.39       20.34\n",
      "4         6       3.39       20.34\n"
     ]
    }
   ],
   "source": [
    "# Tính tổng doanh thu cho từng đơn hàng\n",
    "df['TotalPrice'] = df['Quantity'] * df['UnitPrice']\n",
    "\n",
    "print(\"\\nTính tổng giá trị đơn hàng xong!\")\n",
    "print(df[['Quantity', 'UnitPrice', 'TotalPrice']].head(5))"
   ]
  },
  {
   "cell_type": "code",
   "execution_count": 33,
   "metadata": {},
   "outputs": [
    {
     "name": "stdout",
     "output_type": "stream",
     "text": [
      "\\ Tạo Pivot Table xong!\n",
      "Doanh thu theo tháng và quốc gia:\n",
      "month         1.0      2.0       3.0      4.0       5.0      6.0      7.0   \\\n",
      "Country                                                                      \n",
      "Australia  3649.97   427.24  16933.38   325.51  16619.47  7833.14   192.00   \n",
      "Austria     364.60   153.76    166.04      NaN       NaN   165.85      NaN   \n",
      "Bahrain        NaN      NaN       NaN      NaN   -205.74      NaN      NaN   \n",
      "Belgium     644.04  1712.05    970.00  2375.27   1443.14  1966.96  1889.74   \n",
      "Canada         NaN      NaN       NaN   534.24       NaN      NaN      NaN   \n",
      "\n",
      "month         8.0      9.0      10.0     11.0     12.0  \n",
      "Country                                                 \n",
      "Australia   680.50   210.90    81.60   462.50  1083.92  \n",
      "Austria    1664.58      NaN      NaN      NaN   484.86  \n",
      "Bahrain        NaN   459.40      NaN      NaN      NaN  \n",
      "Belgium     591.15  1510.72  1251.72  1056.56  1387.17  \n",
      "Canada         NaN      NaN      NaN  1217.64      NaN  \n"
     ]
    }
   ],
   "source": [
    "#Tạo Pivot Table: Tổng doanh thu theo tháng và quốc gia\n",
    "pivot_table = df.pivot_table(values=\"TotalPrice\", index=\"Country\", columns=\"month\", aggfunc=\"sum\")\n",
    "\n",
    "print(\"\\ Tạo Pivot Table xong!\")\n",
    "print(\"Doanh thu theo tháng và quốc gia:\")\n",
    "print(pivot_table.head(5))  # Xem 5 dòng đầu tiên"
   ]
  },
  {
   "cell_type": "code",
   "execution_count": 34,
   "metadata": {},
   "outputs": [
    {
     "name": "stdout",
     "output_type": "stream",
     "text": [
      "\n",
      " Tính số đơn hàng trung bình xong!\n",
      "Số đơn hàng trung bình của từng quốc gia:\n",
      "Country\n",
      "Australia    1259\n",
      "Austria       401\n",
      "Bahrain        19\n",
      "Belgium      2069\n",
      "Brazil         32\n",
      "Name: InvoiceNo, dtype: int64\n"
     ]
    }
   ],
   "source": [
    "# 8️⃣ Nhóm dữ liệu: Tính số đơn hàng trung bình của từng quốc gia\n",
    "avg_orders_per_country = df.groupby(\"Country\")[\"InvoiceNo\"].count()\n",
    "\n",
    "print(\"\\n Tính số đơn hàng trung bình xong!\")\n",
    "print(\"Số đơn hàng trung bình của từng quốc gia:\")\n",
    "print(avg_orders_per_country.head(5))  # Xem 5 dòng đầu tiên"
   ]
  }
 ],
 "metadata": {
  "kernelspec": {
   "display_name": ".venv",
   "language": "python",
   "name": "python3"
  },
  "language_info": {
   "codemirror_mode": {
    "name": "ipython",
    "version": 3
   },
   "file_extension": ".py",
   "mimetype": "text/x-python",
   "name": "python",
   "nbconvert_exporter": "python",
   "pygments_lexer": "ipython3",
   "version": "3.10.0"
  }
 },
 "nbformat": 4,
 "nbformat_minor": 2
}
